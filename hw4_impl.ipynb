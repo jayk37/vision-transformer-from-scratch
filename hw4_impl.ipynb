{
  "nbformat": 4,
  "nbformat_minor": 0,
  "metadata": {
    "colab": {
      "provenance": [],
      "gpuType": "A100"
    },
    "kernelspec": {
      "name": "python3",
      "display_name": "Python 3"
    },
    "language_info": {
      "name": "python"
    },
    "accelerator": "GPU"
  },
  "cells": [
    {
      "cell_type": "markdown",
      "source": [
        "## Vision Transformer (ViT)\n",
        "\n",
        "In this assignment we're going to work with Vision Transformer. We will start to build our own vit model and train it on an image classification task.\n",
        "The purpose of this homework is for you to get familar with ViT and get prepared for the final project."
      ],
      "metadata": {
        "id": "nQgfvQ4tT-ou"
      }
    },
    {
      "cell_type": "code",
      "source": [
        "import math\n",
        "\n",
        "import torch\n",
        "import torch.nn as nn\n",
        "import torch.nn.functional as F\n",
        "from torchvision import datasets, transforms\n",
        "from torchvision.transforms import v2"
      ],
      "metadata": {
        "id": "nFR6WFmfxw43"
      },
      "execution_count": 1,
      "outputs": []
    },
    {
      "cell_type": "code",
      "source": [
        "device = torch.device(\"cuda\" if torch.cuda.is_available() else \"cpu\")\n",
        "print(device)"
      ],
      "metadata": {
        "id": "xGv2wu1MyAPC",
        "colab": {
          "base_uri": "https://localhost:8080/"
        },
        "outputId": "37ac9d5d-4b5f-4aca-92f7-54a9b01bdd32"
      },
      "execution_count": 2,
      "outputs": [
        {
          "output_type": "stream",
          "name": "stdout",
          "text": [
            "cuda\n"
          ]
        }
      ]
    },
    {
      "cell_type": "markdown",
      "source": [
        "# VIT Implementation\n",
        "\n",
        "The vision transformer can be seperated into three parts, we will implement each part and combine them in the end.\n",
        "\n",
        "For the implementation, feel free to experiment different kinds of setup, as long as you use attention as the main computation unit and the ViT can be train to perform the image classification task present later.\n",
        "You can read about the ViT implement from other libary: https://github.com/huggingface/pytorch-image-models/blob/main/timm/models/vision_transformer.py and https://github.com/pytorch/vision/blob/main/torchvision/models/vision_transformer.py"
      ],
      "metadata": {
        "id": "MmNi93C-4rLb"
      }
    },
    {
      "cell_type": "markdown",
      "source": [
        "## PatchEmbedding\n",
        "PatchEmbedding is responsible for dividing the input image into non-overlapping patches and projecting them into a specified embedding dimension. It uses a 2D convolution layer with a kernel size and stride equal to the patch size. The output is a sequence of linear embeddings for each patch."
      ],
      "metadata": {
        "id": "UNEtT9SQ4jgx"
      }
    },
    {
      "cell_type": "code",
      "source": [
        "class PatchEmbedding(nn.Module):\n",
        "    def __init__(self, image_size, patch_size, in_channels, embed_dim):\n",
        "      super(PatchEmbedding, self).__init__()\n",
        "\n",
        "      self.image_size = image_size\n",
        "      self.patch_size = patch_size\n",
        "      self.in_channels = in_channels\n",
        "      self.embed_dim = embed_dim\n",
        "      self.patch_count = (image_size // patch_size) ** 2\n",
        "      self.embedding_layer = nn.Conv2d(in_channels, embed_dim, kernel_size=patch_size, stride=patch_size)\n",
        "\n",
        "    def forward(self, x):\n",
        "\n",
        "      x = self.embedding_layer(x).flatten(start_dim=2).transpose(1, 2)\n",
        "      return x"
      ],
      "metadata": {
        "id": "rAzsdK5YybDa"
      },
      "execution_count": 3,
      "outputs": []
    },
    {
      "cell_type": "markdown",
      "source": [
        "## MultiHeadSelfAttention\n",
        "\n",
        "This class implements the multi-head self-attention mechanism, which is a key component of the transformer architecture. It consists of multiple attention heads that independently compute scaled dot-product attention on the input embeddings. This allows the model to capture different aspects of the input at different positions. The attention outputs are concatenated and linearly transformed back to the original embedding size."
      ],
      "metadata": {
        "id": "1mk8v66y6MAS"
      }
    },
    {
      "cell_type": "code",
      "source": [
        "class MultiHeadSelfAttention(nn.Module):\n",
        "    def __init__(self, embed_dim, num_heads, dropout_rate=0.1):\n",
        "\n",
        "      super(MultiHeadSelfAttention, self).__init__()\n",
        "      self.embed_dim = embed_dim\n",
        "      self.num_heads = num_heads\n",
        "      self.dropout_rate = dropout_rate\n",
        "      self.head_dim = embed_dim // num_heads\n",
        "      self.factor = self.head_dim ** -0.5\n",
        "      self.query = nn.Linear(embed_dim, embed_dim)\n",
        "      self.key = nn.Linear(embed_dim, embed_dim)\n",
        "      self.value = nn.Linear(embed_dim, embed_dim)\n",
        "      self.projection = nn.Linear(embed_dim, embed_dim)\n",
        "\n",
        "    def forward(self, x):\n",
        "\n",
        "      batch_size, sequence_len, embedding_dim = x.shape\n",
        "      queries = self.query(x)\n",
        "      keys = self.key(x)\n",
        "      values = self.value(x)\n",
        "      queries = queries.view(batch_size, sequence_len, self.num_heads, self.head_dim).transpose(1, 2)\n",
        "      keys = keys.view(batch_size, sequence_len, self.num_heads, self.head_dim).transpose(1, 2)\n",
        "      values = values.view(batch_size, sequence_len, self.num_heads, self.head_dim).transpose(1, 2)\n",
        "      attention_scores = (queries @ keys.transpose(-2, -1)) * self.factor\n",
        "      attention_weights = F.softmax(attention_scores, dim=-1)\n",
        "      attention_output = attention_weights @ values\n",
        "      attention_output = attention_output.transpose(1, 2).contiguous()\n",
        "      combined_output = attention_output.view(batch_size, sequence_len, embedding_dim)\n",
        "      output = self.projection(combined_output)\n",
        "      return output"
      ],
      "metadata": {
        "id": "V1LeAZq-0dQW"
      },
      "execution_count": 4,
      "outputs": []
    },
    {
      "cell_type": "markdown",
      "source": [
        "## TransformerBlock\n",
        "This class represents a single transformer layer. It includes a multi-head self-attention sublayer followed by a position-wise feed-forward network (MLP). Each sublayer is surrounded by residual connections.\n",
        "You may also want to use layer normalization or other type of normalization."
      ],
      "metadata": {
        "id": "NCAURJGJ6jhH"
      }
    },
    {
      "cell_type": "code",
      "source": [
        "class TransformerBlock(nn.Module):\n",
        "    def __init__(self, embed_dim, num_heads, mlp_dim, dropout):\n",
        "        super(TransformerBlock, self).__init__()\n",
        "\n",
        "        self.embed_dim = embed_dim\n",
        "        self.num_heads = num_heads\n",
        "        self.mlp_dim = mlp_dim\n",
        "        self.dropout = dropout\n",
        "\n",
        "        self.normalization_1 = nn.LayerNorm(embed_dim)\n",
        "        self.self_attention = MultiHeadSelfAttention(embed_dim, num_heads)\n",
        "        self.dropout_layer = nn.Dropout(dropout)\n",
        "        self.normalization_2 = nn.LayerNorm(embed_dim)\n",
        "        self.fc1 = nn.Linear(embed_dim, mlp_dim)\n",
        "        self.activation = nn.GELU()\n",
        "        self.mlp_dropout_1 = nn.Dropout(dropout)\n",
        "        self.fc2 = nn.Linear(mlp_dim, embed_dim)\n",
        "        self.mlp_dropout_2 = nn.Dropout(dropout)\n",
        "\n",
        "    def forward(self, x):\n",
        "\n",
        "        residual = x\n",
        "        x = self.normalization_1(x)\n",
        "        x = self.self_attention(x)\n",
        "        x = self.dropout_layer(x)\n",
        "        x = x + residual\n",
        "        residual = x\n",
        "        x = self.normalization_2(x)\n",
        "        x = self.fc1(x)\n",
        "        x = self.activation(x)\n",
        "        x = self.mlp_dropout_1(x)\n",
        "        x = self.fc2(x)\n",
        "        x = self.mlp_dropout_2(x)\n",
        "        x = x + residual\n",
        "        return x"
      ],
      "metadata": {
        "id": "0rT15Biv6igC"
      },
      "execution_count": 5,
      "outputs": []
    },
    {
      "cell_type": "markdown",
      "source": [
        "## VisionTransformer:\n",
        "This is the main class that assembles the entire Vision Transformer architecture. It starts with the PatchEmbedding layer to create patch embeddings from the input image. A special class token is added to the sequence, and positional embeddings are added to both the patch and class tokens. The sequence of patch embeddings is then passed through multiple TransformerBlock layers. The final output is the logits for all classes"
      ],
      "metadata": {
        "id": "rgLfJRUm7EDq"
      }
    },
    {
      "cell_type": "code",
      "source": [
        "class VisionTransformer(nn.Module):\n",
        "    def __init__(self, image_size, patch_size, in_channels, embed_dim, num_heads, mlp_dim, num_layers, num_classes, dropout=0.1):\n",
        "\n",
        "        super(VisionTransformer, self).__init__()\n",
        "        self.patch_embedding = PatchEmbedding(image_size, patch_size, in_channels, embed_dim)\n",
        "        self.position_embedding = nn.Parameter(torch.randn(1, self.patch_embedding.patch_count + 1, embed_dim))\n",
        "        self.class_token = nn.Parameter(torch.randn(1, 1, embed_dim))\n",
        "        self.dropout_layer = nn.Dropout(dropout)\n",
        "        self.transformer_layers = nn.ModuleList(\n",
        "            [TransformerBlock(embed_dim, num_heads, mlp_dim, dropout) for k in range(num_layers)]\n",
        "        )\n",
        "        self.classifier_head = nn.Linear(embed_dim, num_classes)\n",
        "\n",
        "    def forward(self, x):\n",
        "\n",
        "        batch_size = x.size(0)\n",
        "        patch_embeddings = self.patch_embedding(x)\n",
        "        class_tokens = self.class_token.expand(batch_size, -1, -1)\n",
        "        embeddings = torch.cat([class_tokens, patch_embeddings], dim = 1)\n",
        "        embeddings = embeddings + self.position_embedding\n",
        "        embeddings = self.dropout_layer(embeddings)\n",
        "        for layer in self.transformer_layers:\n",
        "          embeddings = layer(embeddings)\n",
        "        class_output = embeddings[:, 0]\n",
        "        output = self.classifier_head(class_output)\n",
        "        return output"
      ],
      "metadata": {
        "id": "tgute9Ab0QP4"
      },
      "execution_count": 6,
      "outputs": []
    },
    {
      "cell_type": "markdown",
      "source": [
        "## Let's train the ViT!\n",
        "\n",
        "We will train the vit to do the image classification with cifar100. Free free to change the optimizer and or add other tricks to improve the training"
      ],
      "metadata": {
        "id": "lROdKoO37Uqb"
      }
    },
    {
      "cell_type": "code",
      "source": [
        "# image_size = 64\n",
        "image_size = 32\n",
        "# patch_size = 8\n",
        "patch_size = 4\n",
        "in_channels = 3\n",
        "embed_dim = 256\n",
        "num_heads = 8\n",
        "mlp_dim = 512\n",
        "num_layers = 6\n",
        "num_classes = 100\n",
        "dropout = 0.01\n",
        "batch_size = 256"
      ],
      "metadata": {
        "id": "byAC841ix_lb"
      },
      "execution_count": 7,
      "outputs": []
    },
    {
      "cell_type": "code",
      "source": [
        "model = VisionTransformer(image_size, patch_size, in_channels, embed_dim, num_heads, mlp_dim, num_layers, num_classes, dropout).to(device)\n",
        "input_tensor = torch.randn(1, in_channels, image_size, image_size).to(device)\n",
        "output = model(input_tensor)\n",
        "print(output.shape)"
      ],
      "metadata": {
        "id": "1V14TFbM8x4l",
        "colab": {
          "base_uri": "https://localhost:8080/"
        },
        "outputId": "a6b8837e-b26a-4861-d574-b06dd4a51db9"
      },
      "execution_count": 8,
      "outputs": [
        {
          "output_type": "stream",
          "name": "stdout",
          "text": [
            "torch.Size([1, 100])\n"
          ]
        }
      ]
    },
    {
      "cell_type": "code",
      "source": [
        "# Load the CIFAR-100 dataset\n",
        "transform_train = transforms.Compose([\n",
        "    transforms.RandomCrop(32, padding=4),\n",
        "    transforms.Resize(image_size),\n",
        "    transforms.RandomHorizontalFlip(),\n",
        "    transforms.ToTensor(),\n",
        "    transforms.Normalize((0.4914, 0.4822, 0.4465), (0.2023, 0.1994, 0.2010)),\n",
        "])\n",
        "\n",
        "transform_test = transforms.Compose([\n",
        "    transforms.Resize(image_size),\n",
        "    transforms.ToTensor(),\n",
        "    transforms.Normalize((0.4914, 0.4822, 0.4465), (0.2023, 0.1994, 0.2010)),\n",
        "])\n",
        "\n",
        "from torch.utils.data import default_collate\n",
        "cutmix = v2.CutMix(num_classes = 100)\n",
        "mixup = v2.MixUp(num_classes = 100)\n",
        "cutmix_or_mixup = v2.RandomChoice([cutmix, mixup])\n",
        "\n",
        "def collate_fn(batch):\n",
        "    return cutmix_or_mixup.forward(*default_collate(batch))\n",
        "\n",
        "trainset = datasets.CIFAR100(root='./data', train=True, download=True, transform=transform_train)\n",
        "testset = datasets.CIFAR100(root='./data', train=False, download=True, transform=transform_test)\n",
        "\n",
        "trainloader = torch.utils.data.DataLoader(trainset, batch_size=batch_size, shuffle=True, num_workers=2, collate_fn=collate_fn)\n",
        "testloader = torch.utils.data.DataLoader(testset, batch_size=batch_size, shuffle=False, num_workers=2)"
      ],
      "metadata": {
        "id": "3BOp450mdC-D",
        "colab": {
          "base_uri": "https://localhost:8080/"
        },
        "outputId": "c6198192-2896-4cdd-9e6a-df3ead123f21"
      },
      "execution_count": 9,
      "outputs": [
        {
          "output_type": "stream",
          "name": "stdout",
          "text": [
            "Downloading https://www.cs.toronto.edu/~kriz/cifar-100-python.tar.gz to ./data/cifar-100-python.tar.gz\n"
          ]
        },
        {
          "output_type": "stream",
          "name": "stderr",
          "text": [
            "100%|██████████| 169M/169M [00:01<00:00, 103MB/s]\n"
          ]
        },
        {
          "output_type": "stream",
          "name": "stdout",
          "text": [
            "Extracting ./data/cifar-100-python.tar.gz to ./data\n",
            "Files already downloaded and verified\n"
          ]
        }
      ]
    },
    {
      "cell_type": "code",
      "source": [
        "# Define the loss function and optimizer\n",
        "criterion = nn.CrossEntropyLoss()\n",
        "optimizer = torch.optim.Adam(model.parameters(), lr=0.001, weight_decay=1e-4)\n",
        "lr_scheduler = torch.optim.lr_scheduler.CosineAnnealingLR(optimizer, T_max=100)"
      ],
      "metadata": {
        "id": "4s8-X4l-exSg"
      },
      "execution_count": 10,
      "outputs": []
    },
    {
      "cell_type": "code",
      "source": [
        "# Train the model\n",
        "num_epochs = 100 # TODO\n",
        "best_val_acc = 0\n",
        "for epoch in range(num_epochs):\n",
        "    model.train()\n",
        "    for i, data in enumerate(trainloader, 0):\n",
        "        inputs, labels = data\n",
        "        inputs, labels = inputs.to(device), labels.to(device)\n",
        "\n",
        "\n",
        "        optimizer.zero_grad()\n",
        "\n",
        "        outputs = model(inputs)\n",
        "        loss = criterion(outputs, labels)\n",
        "        loss.backward()\n",
        "        optimizer.step()\n",
        "    lr_scheduler.step()\n",
        "\n",
        "        # TODO Feel free to modify the training loop youself.\n",
        "\n",
        "    # Validate the model\n",
        "    model.eval()\n",
        "    correct = 0\n",
        "    total = 0\n",
        "    with torch.no_grad():\n",
        "        for data in testloader:\n",
        "            images, labels = data\n",
        "            images, labels = images.to(device), labels.to(device)\n",
        "            outputs = model(images)\n",
        "            _, predicted = torch.max(outputs.data, 1)\n",
        "            total += labels.size(0)\n",
        "            correct += (predicted == labels).sum().item()\n",
        "    val_acc = 100 * correct / total\n",
        "    print(f\"Epoch: {epoch + 1}, Validation Accuracy: {val_acc:.2f}%\")\n",
        "\n",
        "    # Save the best model\n",
        "    if val_acc > best_val_acc:\n",
        "        best_val_acc = val_acc\n",
        "        torch.save(model.state_dict(), \"best_model.pth\")"
      ],
      "metadata": {
        "id": "eOyk345ve5HN",
        "colab": {
          "base_uri": "https://localhost:8080/"
        },
        "outputId": "43353f1d-1293-437f-9d12-d33d03b5f4f0"
      },
      "execution_count": 11,
      "outputs": [
        {
          "output_type": "stream",
          "name": "stdout",
          "text": [
            "Epoch: 1, Validation Accuracy: 16.06%\n",
            "Epoch: 2, Validation Accuracy: 21.76%\n",
            "Epoch: 3, Validation Accuracy: 24.78%\n",
            "Epoch: 4, Validation Accuracy: 28.20%\n",
            "Epoch: 5, Validation Accuracy: 30.69%\n",
            "Epoch: 6, Validation Accuracy: 33.10%\n",
            "Epoch: 7, Validation Accuracy: 35.94%\n",
            "Epoch: 8, Validation Accuracy: 37.68%\n",
            "Epoch: 9, Validation Accuracy: 39.22%\n",
            "Epoch: 10, Validation Accuracy: 39.91%\n",
            "Epoch: 11, Validation Accuracy: 42.26%\n",
            "Epoch: 12, Validation Accuracy: 44.76%\n",
            "Epoch: 13, Validation Accuracy: 44.56%\n",
            "Epoch: 14, Validation Accuracy: 46.79%\n",
            "Epoch: 15, Validation Accuracy: 47.90%\n",
            "Epoch: 16, Validation Accuracy: 48.31%\n",
            "Epoch: 17, Validation Accuracy: 47.90%\n",
            "Epoch: 18, Validation Accuracy: 49.69%\n",
            "Epoch: 19, Validation Accuracy: 49.72%\n",
            "Epoch: 20, Validation Accuracy: 50.86%\n",
            "Epoch: 21, Validation Accuracy: 52.07%\n",
            "Epoch: 22, Validation Accuracy: 51.75%\n",
            "Epoch: 23, Validation Accuracy: 54.15%\n",
            "Epoch: 24, Validation Accuracy: 54.38%\n",
            "Epoch: 25, Validation Accuracy: 53.81%\n",
            "Epoch: 26, Validation Accuracy: 54.26%\n",
            "Epoch: 27, Validation Accuracy: 54.74%\n",
            "Epoch: 28, Validation Accuracy: 54.49%\n",
            "Epoch: 29, Validation Accuracy: 56.43%\n",
            "Epoch: 30, Validation Accuracy: 57.03%\n",
            "Epoch: 31, Validation Accuracy: 56.96%\n",
            "Epoch: 32, Validation Accuracy: 57.21%\n",
            "Epoch: 33, Validation Accuracy: 59.36%\n",
            "Epoch: 34, Validation Accuracy: 57.28%\n",
            "Epoch: 35, Validation Accuracy: 58.29%\n",
            "Epoch: 36, Validation Accuracy: 59.03%\n",
            "Epoch: 37, Validation Accuracy: 58.94%\n",
            "Epoch: 38, Validation Accuracy: 60.81%\n",
            "Epoch: 39, Validation Accuracy: 60.13%\n",
            "Epoch: 40, Validation Accuracy: 58.77%\n",
            "Epoch: 41, Validation Accuracy: 59.79%\n",
            "Epoch: 42, Validation Accuracy: 60.95%\n",
            "Epoch: 43, Validation Accuracy: 60.80%\n",
            "Epoch: 44, Validation Accuracy: 61.67%\n",
            "Epoch: 45, Validation Accuracy: 61.32%\n",
            "Epoch: 46, Validation Accuracy: 61.74%\n",
            "Epoch: 47, Validation Accuracy: 61.69%\n",
            "Epoch: 48, Validation Accuracy: 62.31%\n",
            "Epoch: 49, Validation Accuracy: 62.03%\n",
            "Epoch: 50, Validation Accuracy: 62.34%\n",
            "Epoch: 51, Validation Accuracy: 63.12%\n",
            "Epoch: 52, Validation Accuracy: 63.21%\n",
            "Epoch: 53, Validation Accuracy: 64.04%\n",
            "Epoch: 54, Validation Accuracy: 63.83%\n",
            "Epoch: 55, Validation Accuracy: 63.74%\n",
            "Epoch: 56, Validation Accuracy: 64.71%\n",
            "Epoch: 57, Validation Accuracy: 63.57%\n",
            "Epoch: 58, Validation Accuracy: 63.92%\n",
            "Epoch: 59, Validation Accuracy: 64.50%\n",
            "Epoch: 60, Validation Accuracy: 65.35%\n",
            "Epoch: 61, Validation Accuracy: 65.47%\n",
            "Epoch: 62, Validation Accuracy: 65.01%\n",
            "Epoch: 63, Validation Accuracy: 64.87%\n",
            "Epoch: 64, Validation Accuracy: 65.01%\n",
            "Epoch: 65, Validation Accuracy: 65.46%\n",
            "Epoch: 66, Validation Accuracy: 65.11%\n",
            "Epoch: 67, Validation Accuracy: 65.53%\n",
            "Epoch: 68, Validation Accuracy: 65.90%\n",
            "Epoch: 69, Validation Accuracy: 65.93%\n",
            "Epoch: 70, Validation Accuracy: 66.23%\n",
            "Epoch: 71, Validation Accuracy: 66.00%\n",
            "Epoch: 72, Validation Accuracy: 66.25%\n",
            "Epoch: 73, Validation Accuracy: 66.49%\n",
            "Epoch: 74, Validation Accuracy: 66.72%\n",
            "Epoch: 75, Validation Accuracy: 67.02%\n",
            "Epoch: 76, Validation Accuracy: 66.87%\n",
            "Epoch: 77, Validation Accuracy: 67.03%\n",
            "Epoch: 78, Validation Accuracy: 66.99%\n",
            "Epoch: 79, Validation Accuracy: 66.86%\n",
            "Epoch: 80, Validation Accuracy: 66.90%\n",
            "Epoch: 81, Validation Accuracy: 67.39%\n",
            "Epoch: 82, Validation Accuracy: 67.61%\n",
            "Epoch: 83, Validation Accuracy: 67.25%\n",
            "Epoch: 84, Validation Accuracy: 67.65%\n",
            "Epoch: 85, Validation Accuracy: 67.65%\n",
            "Epoch: 86, Validation Accuracy: 67.60%\n",
            "Epoch: 87, Validation Accuracy: 67.74%\n",
            "Epoch: 88, Validation Accuracy: 67.55%\n",
            "Epoch: 89, Validation Accuracy: 67.76%\n",
            "Epoch: 90, Validation Accuracy: 67.96%\n",
            "Epoch: 91, Validation Accuracy: 67.89%\n",
            "Epoch: 92, Validation Accuracy: 67.83%\n",
            "Epoch: 93, Validation Accuracy: 67.82%\n",
            "Epoch: 94, Validation Accuracy: 67.92%\n",
            "Epoch: 95, Validation Accuracy: 67.90%\n",
            "Epoch: 96, Validation Accuracy: 67.85%\n",
            "Epoch: 97, Validation Accuracy: 67.86%\n",
            "Epoch: 98, Validation Accuracy: 67.83%\n",
            "Epoch: 99, Validation Accuracy: 67.89%\n",
            "Epoch: 100, Validation Accuracy: 67.89%\n"
          ]
        }
      ]
    },
    {
      "cell_type": "markdown",
      "source": [
        "Please submit your best_model.pth with this notebook. And report the best test results you get."
      ],
      "metadata": {
        "id": "-AfNVj1U9xhk"
      }
    }
  ]
}